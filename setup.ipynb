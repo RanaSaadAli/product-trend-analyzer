{
 "cells": [
  {
   "cell_type": "code",
   "execution_count": null,
   "id": "09c3aee5-cbd3-4040-abfc-5a3d94aa30a5",
   "metadata": {},
   "outputs": [],
   "source": [
    "#WILL BE ADDED SOON\n",
    "\n",
    "#from setuptools import setup, find_packages"
   ]
  },
  {
   "cell_type": "code",
   "execution_count": null,
   "id": "87299cce-8e78-4502-95f5-1cb126aba620",
   "metadata": {},
   "outputs": [],
   "source": []
  }
 ],
 "metadata": {
  "kernelspec": {
   "display_name": "Python 3 (ipykernel)",
   "language": "python",
   "name": "python3"
  },
  "language_info": {
   "codemirror_mode": {
    "name": "ipython",
    "version": 3
   },
   "file_extension": ".py",
   "mimetype": "text/x-python",
   "name": "python",
   "nbconvert_exporter": "python",
   "pygments_lexer": "ipython3",
   "version": "3.13.1"
  }
 },
 "nbformat": 4,
 "nbformat_minor": 5
}
